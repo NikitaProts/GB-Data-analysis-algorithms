{
 "cells": [
  {
   "cell_type": "code",
   "execution_count": 1,
   "metadata": {},
   "outputs": [],
   "source": [
    "import numpy as np\n",
    "import matplotlib.pyplot as plt"
   ]
  },
  {
   "cell_type": "code",
   "execution_count": 19,
   "metadata": {},
   "outputs": [],
   "source": [
    "def calc_mse(y, y_pred):\n",
    "    err = np.mean((y - y_pred)**2)\n",
    "    return err\n",
    "\n",
    "def calc_mae(y, y_pred):\n",
    "    err = np.mean(np.abs(y - y_pred))\n",
    "    return err"
   ]
  },
  {
   "cell_type": "code",
   "execution_count": 20,
   "metadata": {},
   "outputs": [],
   "source": [
    "X = np.array([[1, 1, 1, 1, 1, 1, 1, 1, 1, 1],\n",
    "              [1, 1, 2, 1, 3, 0, 5, 10, 1, 2]])\n",
    "\n",
    "y = [45, 55, 50, 59, 65, 35, 75, 80, 50, 60]"
   ]
  },
  {
   "cell_type": "code",
   "execution_count": 21,
   "metadata": {},
   "outputs": [
    {
     "data": {
      "text/plain": [
       "(array([1. , 0.5]), 0.05)"
      ]
     },
     "execution_count": 21,
     "metadata": {},
     "output_type": "execute_result"
    }
   ],
   "source": [
    "n = X.shape[1]\n",
    "alpha = 5e-02 \n",
    "\n",
    "W = np.array([1, 0.5])\n",
    "W, alpha"
   ]
  },
  {
   "cell_type": "markdown",
   "metadata": {},
   "source": [
    "1. Подберите скорость обучения (alpha) и количество итераций:"
   ]
  },
  {
   "cell_type": "code",
   "execution_count": 22,
   "metadata": {},
   "outputs": [
    {
     "name": "stdout",
     "output_type": "stream",
     "text": [
      "0 [ 6.51 17.5 ] 3173.15\n",
      "10 [22.7217522   8.44369395] 405.351038610958\n",
      "20 [32.8605174   6.56455282] 169.49199958291322\n",
      "30 [38.80578987  5.46670483] 88.4117771389438\n",
      "40 [42.29161487  4.82302057] 60.53886396989221\n",
      "50 [44.33541912  4.44561648] 50.957004607078744\n",
      "60 [45.53373968  4.22433742] 47.6630529382349\n",
      "70 [46.23633738  4.09459738] 46.5306925908489\n",
      "80 [46.64828353  4.01852838] 46.14142156162883\n",
      "90 [46.88981524  3.9739277 ] 46.007602027467385\n",
      "100 [47.03142979  3.94777749] 45.96159894380851\n",
      "110 [47.11446104  3.93244513] 45.94578448354016\n",
      "120 [47.16314381  3.92345549] 45.94034795334072\n",
      "130 [47.19168743  3.91818469] 45.93847903969411\n",
      "140 [47.20842308  3.91509432] 45.93783656405422\n",
      "150 [47.21823551  3.91328238] 45.93761570048005\n",
      "160 [47.22398872  3.91222001] 45.93753977430423\n"
     ]
    }
   ],
   "source": [
    "last_err = False\n",
    "for i in range(1000):\n",
    "    y_pred = W @ X\n",
    "    last_err = err if last_err else calc_mse(y, y_pred) * 2\n",
    "    err = calc_mse(y, y_pred)\n",
    "    for ii in range(W.shape[0]):\n",
    "        W[ii] -= alpha * (1/n * 2 * np.sum(X[ii] * (y_pred - y)))\n",
    "    if i % 10 == 0:\n",
    "        print(i, W, err)\n",
    "        if last_err/err < 1.0000001:\n",
    "            break"
   ]
  },
  {
   "cell_type": "markdown",
   "metadata": {},
   "source": [
    "2. В этом коде мы избавляемся от итераций по весам, но тут есть ошибка, исправьте ее:"
   ]
  },
  {
   "cell_type": "code",
   "execution_count": 23,
   "metadata": {},
   "outputs": [
    {
     "name": "stdout",
     "output_type": "stream",
     "text": [
      "0 [47.22441265  3.91214173] 45.937535746155\n",
      "10 [47.22761049  3.91155122] 45.937512288440324\n",
      "20 [47.22948545  3.911205  ] 45.937504224391844\n",
      "30 [47.23058477  3.911002  ] 45.937501452217376\n",
      "40 [47.23122932  3.91088298] 45.937500499228165\n",
      "50 [47.23160723  3.91081319] 45.93750017161943\n",
      "60 [47.23182881  3.91077228] 45.937500058997564\n",
      "70 [47.23195873  3.91074829] 45.93750002028157\n",
      "80 [47.2320349   3.91073422] 45.937500006972186\n",
      "90 [47.23207956  3.91072597] 45.937500002396824\n",
      "100 [47.23210574  3.91072114] 45.937500000823945\n",
      "110 [47.2321211  3.9107183] 45.93750000028325\n",
      "120 [47.2321301   3.91071664] 45.93750000009737\n",
      "130 [47.23213538  3.91071567] 45.937500000033474\n",
      "140 [47.23213847  3.9107151 ] 45.93750000001152\n",
      "150 [47.23214029  3.91071476] 45.937500000003936\n",
      "160 [47.23214135  3.91071456] 45.937500000001364\n"
     ]
    }
   ],
   "source": [
    "for i in range(170):\n",
    "  y_pred = np.dot(W, X)\n",
    "  err = calc_mse(y, y_pred)\n",
    "  W -= alpha * (1 / n * 2 * X @ (y_pred - y))\n",
    "  if i % 10 == 0:\n",
    "    print(i, W, err)"
   ]
  }
 ],
 "metadata": {
  "kernelspec": {
   "display_name": "Python 3",
   "language": "python",
   "name": "python3"
  },
  "language_info": {
   "codemirror_mode": {
    "name": "ipython",
    "version": 3
   },
   "file_extension": ".py",
   "mimetype": "text/x-python",
   "name": "python",
   "nbconvert_exporter": "python",
   "pygments_lexer": "ipython3",
   "version": "3.8.5"
  }
 },
 "nbformat": 4,
 "nbformat_minor": 4
}
